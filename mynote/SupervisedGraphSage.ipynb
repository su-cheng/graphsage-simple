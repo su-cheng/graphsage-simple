{
 "cells": [
  {
   "cell_type": "markdown",
   "id": "247abb40-9c52-4c6b-af37-c7187fe01aa0",
   "metadata": {},
   "source": [
    "#### 基本语法\n",
    "##### self.xent = nn.CrossEntropyLoss()\n",
    "- 这是自己定义的属性，有些属性不需要传入参数对其进行初始化，可以直接固定它的值\n",
    "- CrossEntropyLoss()是交叉熵损失函数，\n",
    "\n",
    "##### labels.squeeze()\n",
    "- 是 PyTorch 中 Tensor 对象的一个方法，用于移除张量中大小为 1 的维度。它的作用是简化张量的形状，使其去掉那些不必要的单维度（即长度为 1 的维度）\n",
    "\n",
    "##### nn.CrossEntropyLoss()\n",
    "- arg1：真实的预测分数，每一行是一个样本的预测分数\n",
    "- arg2：真实的标签\n",
    "- 输出是一个标量张量"
   ]
  },
  {
   "cell_type": "code",
   "execution_count": null,
   "id": "dcdfe9cb-8bd6-4490-9ff9-19974ce8c66b",
   "metadata": {},
   "outputs": [],
   "source": [
    "class SupervisedGraphSage(nn.Module):\n",
    "\n",
    "    def __init__(self, num_classes, enc):\n",
    "        super(SupervisedGraphSage, self).__init__()\n",
    "        self.enc = enc\n",
    "        self.xent = nn.CrossEntropyLoss()\n",
    "        \n",
    "        # 预测模型，权重矩阵是<num_classes, enc.embed_dim> W*enc的结果是目标节点的嵌入表示<enc.embed_dim, batch_size>，它两的乘积就是分类\n",
    "        self.weight = nn.Parameter(torch.FloatTensor(num_classes, enc.embed_dim))\n",
    "        init.xavier_uniform(self.weight)\n",
    "\n",
    "    def forward(self, nodes):\n",
    "        embeds = self.enc(nodes)\n",
    "        scores = self.weight.mm(embeds)\n",
    "        return scores.t()\n",
    "\n",
    "    def loss(self, nodes, labels):\n",
    "        scores = self.forward(nodes)\n",
    "        return self.xent(scores, labels.squeeze())"
   ]
  }
 ],
 "metadata": {
  "kernelspec": {
   "display_name": "graphsage",
   "language": "python",
   "name": "graphsage"
  },
  "language_info": {
   "codemirror_mode": {
    "name": "ipython",
    "version": 3
   },
   "file_extension": ".py",
   "mimetype": "text/x-python",
   "name": "python",
   "nbconvert_exporter": "python",
   "pygments_lexer": "ipython3",
   "version": "3.8.19"
  }
 },
 "nbformat": 4,
 "nbformat_minor": 5
}
